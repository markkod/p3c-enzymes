{
 "cells": [
  {
   "cell_type": "markdown",
   "metadata": {
    "id": "ZXr_qxjUqWbs"
   },
   "source": [
    "# Task 1 - Exploratory data analysis\n",
    "## Group 8\n",
    "#### Godun Alina, Börtlein Lorenz, Kodar Mark-Eerik, Car Franko\n",
    "### Algorithm - P3C\n",
    "### Dataset - ENZYMES\n",
    "\n",
    "Our choice of dataset has been the enzymes dataset. Enzymes play critical role in living organisms.\n",
    "Understanding enzymes, predicting their structure and functionality portrays an integral challenge in modern science.\n",
    "An enzyme can be regarded in four different structural levels, which are all important to determine the certain functionality and application.\n",
    "An enzyme consists of a certain amino acid sequence. This depicts the primary structure of an enzyme.\n",
    "The secondary structure displays the spacial alignment of the protein, largely due to hydrogen bonds that exert a force of attraction onto the other enzymes.\n",
    "Detecting these folds with a high accuracy is a well known problem in science and the solving of that problem took a huge step forward by a new AI guided approach of Google's DeepMind.\n",
    "When having attained the knowledge of the amino acid sequence and the secondary structural properties that make up an enzyme, one can compare this information to a\n",
    "wide range of different databases according to different properties of the enzyme. Thus, when finding a certain threshold of similarity according to a distinct feature\n",
    "the functional properties of an enzyme can be inferred. Sadly, this technique is lacking a universal validity, as the comparison of structural properties merely may infer a\n",
    "common ancestor, thus concluding same properties. So, Borgwardt et al. developed a graph guided approach using graph kernels and support vector machine classification to represent\n",
    "several types of information defining different similarity measures of an enzyme according to different protein function prediction systems, thus making the evaluation more reliable.\n",
    "To reduce the loss of information when applying SVM to a dataset with high dimensionality, they represent protein structures as graphs of their secondary structure elements, the folding of the enzyme.\n",
    "Our goal is to cluster the given data according to the interval approach guided clustering algorithm P3C to gain insight into the different properties of our enzyme.\n",
    "After clustering, we assert the found cluster cores with their assigned points to the according graph nodes of our trained model.\n",
    "In the next step we will be able to perform graph-matching algorithms to measure structural similarity between the different enzymes to infer shared properties.\n",
    "The goal is to conclude the correct enzyme commission number (EC), which is a numerical classification for enzyme-catalyzed reactions, of a given enzyme according to a probabilistic decision."
   ]
  },
  {
   "cell_type": "code",
   "execution_count": 1,
   "metadata": {
    "id": "UqTsNUuEqWbq"
   },
   "outputs": [
    {
     "ename": "ModuleNotFoundError",
     "evalue": "No module named 'auxiliarymethods'",
     "output_type": "error",
     "traceback": [
      "\u001b[0;31m---------------------------------------------------------------------------\u001b[0m",
      "\u001b[0;31mModuleNotFoundError\u001b[0m                       Traceback (most recent call last)",
      "\u001b[0;32m<ipython-input-1-ba124cb95aba>\u001b[0m in \u001b[0;36m<module>\u001b[0;34m\u001b[0m\n\u001b[1;32m      4\u001b[0m \u001b[0;32mimport\u001b[0m \u001b[0mos\u001b[0m\u001b[0;34m\u001b[0m\u001b[0;34m\u001b[0m\u001b[0m\n\u001b[1;32m      5\u001b[0m \u001b[0;32mimport\u001b[0m \u001b[0mnumpy\u001b[0m \u001b[0;32mas\u001b[0m \u001b[0mnp\u001b[0m\u001b[0;34m\u001b[0m\u001b[0;34m\u001b[0m\u001b[0m\n\u001b[0;32m----> 6\u001b[0;31m \u001b[0;32mfrom\u001b[0m \u001b[0mauxiliarymethods\u001b[0m \u001b[0;32mimport\u001b[0m \u001b[0mdatasets\u001b[0m \u001b[0;32mas\u001b[0m \u001b[0mdp\u001b[0m\u001b[0;34m\u001b[0m\u001b[0;34m\u001b[0m\u001b[0m\n\u001b[0m\u001b[1;32m      7\u001b[0m \u001b[0;32mfrom\u001b[0m \u001b[0mauxiliarymethods\u001b[0m\u001b[0;34m.\u001b[0m\u001b[0mreader\u001b[0m \u001b[0;32mimport\u001b[0m \u001b[0mtud_to_networkx\u001b[0m\u001b[0;34m\u001b[0m\u001b[0;34m\u001b[0m\u001b[0m\n\u001b[1;32m      8\u001b[0m \u001b[0;32mimport\u001b[0m \u001b[0mpandas\u001b[0m \u001b[0;32mas\u001b[0m \u001b[0mpd\u001b[0m\u001b[0;34m\u001b[0m\u001b[0;34m\u001b[0m\u001b[0m\n",
      "\u001b[0;31mModuleNotFoundError\u001b[0m: No module named 'auxiliarymethods'"
     ]
    }
   ],
   "source": [
    "import warnings\n",
    "warnings.filterwarnings('ignore')\n",
    "\n",
    "import os\n",
    "import numpy as np\n",
    "from auxiliarymethods import datasets as dp\n",
    "from auxiliarymethods.reader import tud_to_networkx\n",
    "import pandas as pd\n",
    "from sklearn.decomposition import KernelPCA, TruncatedSVD\n",
    "from matplotlib import pyplot as plt\n",
    "from nrkmeans import NrKmeans\n",
    "from sklearn.cluster import SpectralClustering\n",
    "from sklearn.metrics import normalized_mutual_info_score\n",
    "import seaborn as sns\n",
    "from scipy.sparse import load_npz\n",
    "import auxiliarymethods.auxiliary_methods as aux\n",
    "import networkx as nx\n",
    "from sklearn.cluster import KMeans\n",
    "from copy import deepcopy\n",
    "import eda"
   ]
  },
  {
   "cell_type": "markdown",
   "metadata": {
    "id": "0S6J9vA2qWbt"
   },
   "source": [
    "## Overview of NMI performance for different dimensionality reducing techniques\n",
    "\n",
    "### KPCA\n",
    "Applied [Kernel PCA](https://scikit-learn.org/stable/modules/generated/sklearn.decomposition.KernelPCA.html) with the provided Gram matrix and then clustered the reduced representation with Subkmeans with $k=$'number of ground truth classes'.\n",
    "\n",
    "\n",
    "### SVD\n",
    "Applied [Truncated SVD](https://scikit-learn.org/stable/modules/generated/sklearn.decomposition.TruncatedSVD.html) a version of SVD that can handle sparse feature matrices and then clustered the reduced representation with Subkmeans with $k=$'number of ground truth classes'.\n",
    "\n",
    "### Spectral Clustering\n",
    "Applied [Spectral Clustering](https://scikit-learn.org/stable/modules/generated/sklearn.cluster.SpectralClustering.html), an algorithm that is often used to cluster graph data, with the similarities provided by the Gram matrices and with $k=$'number of ground truth classes'. In contrast to Subkmeans Spectral Clustering can find arbitrarily shaped clusters.\n",
    "\n",
    "We start exploratory data analysis with analysing the NMI of different dimensionality reducing techniques. We compare the NMI for different WL iterations, for graph representations with and without node labels."
   ]
  },
  {
   "cell_type": "code",
   "execution_count": null,
   "metadata": {
    "colab": {
     "base_uri": "https://localhost:8080/",
     "height": 502
    },
    "id": "4KyXC6AbqWbt",
    "outputId": "460ca594-c6c5-4a9c-d532-1805b204cf25"
   },
   "outputs": [],
   "source": [
    "eda.plot_wl_nmi_comparison()"
   ]
  },
  {
   "cell_type": "markdown",
   "metadata": {
    "id": "r_JIbgiTqWbu"
   },
   "source": [
    "As we can see, the NMI on dataset with labels performs twice as good as on the dataset without labels: 8,5% vs 3,5%. From this we can make a conclusion that node labels contain about as much information as all other dimensions in the WL representation. This means that firstly we should definitely use representation with node labeling for clustering, secondly that clustering probably won't produce good results since the reduced data does not contain enough useful information."
   ]
  },
  {
   "cell_type": "code",
   "execution_count": null,
   "metadata": {
    "colab": {
     "base_uri": "https://localhost:8080/"
    },
    "id": "Jx3RGzWRww4F",
    "outputId": "8f0ba4db-d795-4cff-c057-7bb11af350b7"
   },
   "outputs": [],
   "source": [
    "eda.compute_different_nmis()"
   ]
  },
  {
   "cell_type": "code",
   "execution_count": null,
   "metadata": {
    "colab": {
     "base_uri": "https://localhost:8080/",
     "height": 262
    },
    "id": "hJleeyE9yFyc",
    "outputId": "42695329-244d-486a-b2d9-43537ab09f37"
   },
   "outputs": [],
   "source": [
    "eda.plot_representations_nmi_comparison()"
   ]
  },
  {
   "cell_type": "markdown",
   "metadata": {
    "id": "kXnAXa1VyMfl"
   },
   "source": [
    "Here we compare dimensionality reduction NMI not only for the WL represantation, but also shortest path and graphlet. We can clearly see that KPCA and WL representation are still the best options. Graphlet also shows pretty good results with TSVD. Interestingly, graphlet and shortest path perform better when node labels are not included, but the results are much worse than the ones produced by KPCA on WL with node labeling so we're going to concentrate on representations including node labeling."
   ]
  },
  {
   "cell_type": "markdown",
   "metadata": {
    "id": "FARJ0uuMqWbx"
   },
   "source": [
    "## Plot EC classes (examples)"
   ]
  },
  {
   "cell_type": "code",
   "execution_count": null,
   "metadata": {
    "colab": {
     "base_uri": "https://localhost:8080/"
    },
    "id": "AUrej39nqWbx",
    "outputId": "e07df7c6-f911-4743-f23a-5ebf8be24554"
   },
   "outputs": [],
   "source": [
    "classes = dp.get_dataset(\"ENZYMES\")\n",
    "G = tud_to_networkx(ds_name)\n",
    "print(f\"Number of graphs in data set is {len(G)}\")\n",
    "print(f\"Number of classes {len(set(classes.tolist()))}\")"
   ]
  },
  {
   "cell_type": "code",
   "execution_count": null,
   "metadata": {
    "colab": {
     "base_uri": "https://localhost:8080/",
     "height": 1000
    },
    "id": "QvpBuWuKqWbx",
    "outputId": "54bb1407-7d93-494b-859d-32d5be47526d"
   },
   "outputs": [],
   "source": [
    "for i in range(1,7):\n",
    "  print(f'{i} EC class')\n",
    "  idx = i*100-50\n",
    "  eda.visualize(G[i])"
   ]
  },
  {
   "cell_type": "markdown",
   "metadata": {
    "id": "NBlUEB6QqWby"
   },
   "source": [
    "## Clustering comparison for different graph representations and dimensionality techniques"
   ]
  },
  {
   "cell_type": "markdown",
   "metadata": {
    "id": "Y1otbK7_qWbz"
   },
   "source": [
    "\n",
    "Here we plot the data with dimensionalities reduced by KPCA and TSVD. As we can see, TSVD performs best for graphlet, because for other representation it just crumbles the data in one point and the information gets lost. KPCA representation is more clear, but we see that points belonging to the same EC classes don't actually show any kind of structure. Clusters found by some of the algorithms discussed in the lecture do not seem to be very useful in this case.\n"
   ]
  },
  {
   "cell_type": "code",
   "execution_count": null,
   "metadata": {
    "colab": {
     "base_uri": "https://localhost:8080/",
     "height": 958
    },
    "id": "5S7TwlkEqWby",
    "outputId": "53038f82-403a-4d75-8972-d894d607f5b3"
   },
   "outputs": [],
   "source": [
    "eda.plot_kpca_nmi_and_clustering(classes)"
   ]
  },
  {
   "cell_type": "code",
   "execution_count": null,
   "metadata": {
    "colab": {
     "base_uri": "https://localhost:8080/",
     "height": 951
    },
    "id": "DwX9hZh7zTi0",
    "outputId": "49164996-c071-4be9-89db-68fd441e1bd2"
   },
   "outputs": [],
   "source": [
    "eda.plot_tsvd_nmi_and_clustering(classes)"
   ]
  },
  {
   "cell_type": "markdown",
   "metadata": {
    "id": "s0-ti3oOqWbz"
   },
   "source": [
    "### P3C (Projected Clustering via Cluster Cores)\n",
    "\n",
    "P3C has the following properties:\n",
    ">- Effectively discovers the projected clusters in the data while being remarkable robust to the only parameter that it takes as input. The setting of this parameter requires little prior knowledge about the data and, in contrast to all previous approaches, there is no need to provide the number of projected clusters as input, since our algorithm can discover, under very general conditions, the true number of projected clusters.\n",
    ">- Effectively discovers very low-dimensional projected clusters embedded in high-dimensional spaces.\n",
    ">- Effectively discovers clusters with varying orientation in their relevant subspaces.\n",
    ">- Scalable with respect to large data sets and high number of dimensions. \n",
    "\n",
    "The algorithm is comprised of the following steps:\n",
    ">- Regions corresponding to projections of clusters onto single attributes are computed.\n",
    ">- Cluster cores are identified by spatial areas that (1) are described by combination of the detected regions and (2) contain an unexpectedly large number of points.\n",
    ">- Cluster cores are iteratively refined into projected clusters\n",
    ">- Outliers are identified and the relevant attributes for each cluster are determined.\n",
    "\n",
    "### Introduction\n",
    "\n",
    "We chose the enyzmes dataset as one of our team members had prior experience with the field and it seemed interesting to the other participants as well. After that we proceeded with the algorithm selection and thought that P3C might suit our dataset due to the fact that it would be scalable with high number of dimensions and would be relatively easy to implement as it required tuning of only one parameter. In addition to that, the original paper stated that it is faster than some of the other algorithms we could choose (e.g. PROCLUS, ORCLUS)\n",
    "\n",
    "In reality the latter the part about the parameters is not true as there are more parameters that influence the performance of the algorithm: computation for the number of bins, degrees of freedom for noise prediction.\n",
    "In addition to that we had two team members leave the project one of which was the member with the knowledge of enzymes. This meant that further development was influenced by that and it made the evaluation of our results harder. \n",
    "\n",
    "### P3C implementation steps\n",
    "\n",
    "The implementation has the following steps:\n",
    "- Projections of true $p$-signatures\n",
    "    - <u>Idea</u>: For each attribute compute the intervals that match or approximate well the projections of true $p$-signatures onto that attribute.\n",
    "    - Identify attributes with uniform distribution and for the non-uniform attributes, to identify intervals with unusual high support using Chi-square goodness-of-fit test.\n",
    "    - Each attribute is divided into same number of equi-sized bins. For every bin in every attribute, its support is computed.\n",
    "    - On the attributes deemed non-uniform, the bin with the largest support is marked. The remaining un-marked bins are tested again using the Chi-square test for uniform distribution. If the Chi-square test indicates that the un-marked bins \"look\" uniform, then we stop. Otherwise, the bin with the second-largest support is marked. Repeat testing for remaining un-marked bins for the uniform distribution and marking bins in decreasing order of support, until the current set of un-marked bins satisifies the test. \n",
    "    - Compute intervals by merging adjacent marked bins. This marking process of bins is linear in the number of bins. \n",
    "- Finding the cluster cores\n",
    "    - <u>Idea</u>: Determining which calculated $p$-signatures do in fact represent the projected clusters.\n",
    "        - <u>Idea</u>: Compute the expected support of a given set when extending it by an additional attribute, while assuming uniform distribution.\n",
    "        - Compare the expected support to the actual support of the candidate p-signature\n",
    "        - Assumption: If the actual support greatly exceeds the expected one it is highly likely that the true projected cluster (true 𝑡-signature) expands over the newly added attribute\n",
    "        - Validate according to the value of the Poission Probability density function how likely the observation was\n",
    "    - Repeat until maximal sets are being found\n",
    "    - Compute how many points are expected to belong to the support set to a specific support set in the case when they are not part of the true $t$-signature.\n",
    "    - Compute the expected support of the signatures.\n",
    "    - Check whether a support set belongs to the true $t$-signature by comparing the expected support to the actual support with the help of Poission probability density function. \n",
    "    - The results of that are considered to be the cluster cores.\n",
    "- Computing the projected clusters\n",
    "    - <u>Idea</u>: The support sets of the cluster cores found in the previous point may not necessarily contain all and only the points of the projected clusters that the cluster cores approximate, depending on the accuracy of the intervals computed in the first step. Refine found $k$ cluster cores into $k$ projected clusters. This is performed in a subscape of (reduced) dimensionality $d'$ of the original $d$-dimensional data, containing all attributes that were deemed non-uniform.\n",
    "    - Describe the membership of data points to cluster cores through a fuzzy membership matrix $M=(m_{il})_{i=1,n,l,=1,k}$, where $m_{il}$ denotes the membership of object $i$ to cluster core $l$; it is defined as follows: $m_{il}=0$ if data point $i$ does not belong to the support set of any cluster core; $m_{il}$ is equal to the fraction of cluster cores that contain data point $i$ in their support set, if $i$ is in the support set of cluster core $l$. \n",
    "    - Compute the probability of a data point belonging to each projected cluster using Expectation Maximization algorithm which is initialized with the fuzzy membership matrix $M$. \n",
    "    - Assign points that have value 0 in the fuzzy membership matrix to one of the cluster cores with the shortest Mahalanobis distance to the cluster mean.\n",
    "    - EM returns the matrix of probabilities that gives for each data point its probability of belonging to each projected cluster and assign each data point to the most probable cluster.\n",
    "- Detect outliers\n",
    "    - <u>Idea</u>: Find points that should not be a part of any cluster.\n",
    "    - Use standard technique for multivariate outlier detection: The Mahalanobis distances between data points and the means of the projected clusters to which they belong are compared to the critical value of the Chi-square distribution with $d'$ degrees of freedom at a confidence level of $\\alpha=0.001$.\n",
    "    - Data points with Mahalanobis distances larger than this critical value are declared outliers. \n",
    "- Detect relevant attributes\n",
    "    - <u>Idea</u>: Determine the relevant attributes of each projected cluster based on the cluster members.\n",
    "    - The relevant attributes of a projected cluster include the attributes of the intervals that make up the $p$-signature of the cluster core based on which this cluster has been computed. \n",
    "    - Test each projected cluster using the Chi-square test whether its members are uniformly distributed in the attributes initially deemed uniform. \n",
    "    - Members of a projected cluster that are not uniformly distributed in one of the attributes initially considered uniform are considered to be relevant for the projected cluster.\n",
    "    - The $p$-signatures of projected clusters are refined by computing the smallest interval that the cluster members project to for each relevant attribute. \n"
   ]
  },
  {
   "cell_type": "markdown",
   "metadata": {
    "id": "1nyS2tYPqWbz"
   },
   "source": [
    "### Example visualization of the algorithm\n",
    "\n",
    "#### First, we will generate a simple dataset with clear clusters to aid with visualisation\n",
    "\n",
    "<img src=\"https://github.com/markkod/pc3-enzymes/blob/exploratory_da/Report/sample_dataset1.png?raw=1\">\n",
    "<img src=\"https://github.com/markkod/pc3-enzymes/blob/exploratory_da/Report/sample_dataset2.png?raw=1\">\n",
    "\n",
    "#### Then we split the data into bins along each axis.\n",
    "\n",
    "##### Dimension 0\n",
    "<img src=\"https://github.com/markkod/pc3-enzymes/blob/exploratory_da/Report/bins0.png?raw=1\">\n",
    "\n",
    "##### Dimension 1\n",
    "<img src=\"https://github.com/markkod/pc3-enzymes/blob/exploratory_da/Report/bins1.png?raw=1\">\n",
    "\n",
    "##### Dimension 2\n",
    "<img src=\"https://github.com/markkod/pc3-enzymes/blob/exploratory_da/Report/bins2.png?raw=1\">\n",
    "\n",
    "#### Put together\n",
    "\n",
    "<img src=\"https://github.com/markkod/pc3-enzymes/blob/exploratory_da/Report/bins.png?raw=1\">\n",
    "\n",
    "#### We merge the bins\n",
    "\n",
    "##### Dimension 0\n",
    "<img src=\"https://github.com/markkod/pc3-enzymes/blob/exploratory_da/Report/merged_bin0.png?raw=1\">\n",
    "\n",
    "##### Dimension 1\n",
    "<img src=\"https://github.com/markkod/pc3-enzymes/blob/exploratory_da/Report/merged_bin1.png?raw=1\">\n",
    "\n",
    "##### Dimension 2\n",
    "<img src=\"https://github.com/markkod/pc3-enzymes/blob/exploratory_da/Report/merged_bin2.png?raw=1\">\n",
    "\n",
    "<img src=\"https://github.com/markkod/pc3-enzymes/blob/exploratory_da/Report/merged_bins_lines.png?raw=1\">\n",
    "\n",
    "<img src=\"https://github.com/markkod/pc3-enzymes/blob/exploratory_da/Report/merged_bins3d.png?raw=1\">\n",
    "\n",
    "#### Candidates\n",
    "\n",
    "<img src=\"https://github.com/markkod/pc3-enzymes/blob/exploratory_da/Report/candidates3d.png?raw=1\">\n",
    "\n",
    "#### After outlier detection\n",
    "\n",
    "<img src=\"https://github.com/markkod/pc3-enzymes/blob/exploratory_da/Report/outliers.png?raw=1\">\n",
    "\n",
    "<img src=\"https://github.com/markkod/pc3-enzymes/blob/exploratory_da/Report/outliers3d.png?raw=1\">\n",
    "\n",
    "\n",
    "#### Play around with the visualization in the file <code>AlgoVisualisation.ipynb</code>\n"
   ]
  },
  {
   "cell_type": "markdown",
   "metadata": {
    "id": "1UtipFjFqWbz"
   },
   "source": [
    "\n",
    "### Our implementation results\n",
    "After implementing the algorithm we evaluated it by comparing its clustering results with the results of the ELKI implementation. For the implementation comparison, we have used two datasets provided by ELKI: mouse and vary density. To verify different steps of the algorithm during the implementation, we have also generated a custom synthetic dataset consisting of multiple well-separated uniformly distributed clusters.\n",
    "\n",
    "As we can see, PC3 does not work well for both mouse and vary density datasets in both our and ELKI’s implementations. The reason for this is that the algorithm heavily relies on the bins provided in the first step, and in both datasets, the points are not well separated in either of the dimensions, so PC3 finds only one big bin in each of the dimensions.\n",
    "\n",
    "#### P3C ELKI result for mouse dataset\n",
    "\n",
    "<img src=\"https://github.com/markkod/pc3-enzymes/blob/exploratory_da/Report/ELKI_mouse_DS.PNG?raw=1\">\n",
    "\n",
    "#### P3C our implementation result for mouse dataset\n",
    "<img src=\"https://github.com/markkod/pc3-enzymes/blob/exploratory_da/Report/ours_mouse_DS.PNG?raw=1\">\n",
    "\n",
    "#### P3C ELKI result for vary dataset\n",
    "<img src=\"https://github.com/markkod/pc3-enzymes/blob/exploratory_da/Report/ELKI_vary_DS.PNG?raw=1\">\n",
    "\n",
    "#### P3C our implementation result for vary dataset\n",
    "<img src=\"https://github.com/markkod/pc3-enzymes/blob/exploratory_da/Report/ours_vary_DS.PNG?raw=1\">\n",
    "\n",
    "The algorithm works much better on the custom dataset, where the clusters are well separated in each of the dimensions, and subsequent cluster core search successfully identifies bins intersections in multiple dimensions. The ELKI implementation found 2 clusters and we found 3. It seems that ELKI implementation allows for each dimension to have only one correspondence in the another dimension, that's why when one bin in the x dimension corresponds to multiple bins in the other dimension, it merges two different bins into one cluster core. The paper does not state how this problem should be solved directly, so we assumed that one bin in one dimension can correspond to multiple bins in other dimensions, thus creating multiple candidates for the cluster cores. As we see, in this case out implementation provides a better result.\n",
    "\n",
    "#### P3C ELKI result for synthetic dataset\n",
    "<img src=\"https://github.com/markkod/pc3-enzymes/blob/exploratory_da/Report/ELKI_synthetic_DS.PNG?raw=1\">\n",
    "\n",
    "#### P3C our implementation result for synthetic dataset\n",
    "<img src=\"https://github.com/markkod/pc3-enzymes/blob/exploratory_da/Report/ours_synthetic_DS.PNG?raw=1\">"
   ]
  },
  {
   "cell_type": "markdown",
   "metadata": {
    "id": "hu3eHl00qWb0"
   },
   "source": [
    "### Running our implementation on the enzymes dataset\n",
    "\n",
    "Unfortunately the cluster core candidate generation step is very expensive, since we try to find intersections between all bins in all dimensions. Even with apriori-like approach, where higher dimension cluster core candidate generation is performed by merging valid intersections of smaller number of dimensions, the number of bins which should be compared is enormous. Thus running algorithm on the whole gram matrixes is not possible. To omit this problem, we have run our algorithm on the KPCA reduced number of dimensions since it has shown best NMI scores across all analyzed dimensionality reduction techniques. \n",
    "\n",
    "We have tried different number of dimensions and have decided for the 10 dimensions for PCA. The bigger number of dimensions did not provide any sensible results, probably because with additional dimensions the cluster cores were getting smaller and less representative. \n",
    "\n",
    "The graph shows clustering results on the 10-KPCA data. The red dots represent cluster centers before the final step when only cluster cores are considered, the green dots represent cluster centers after all points are assigned to some clusters and thus cluster centers are recomputed.\n",
    "\n",
    "<img src=\"https://github.com/markkod/pc3-enzymes/blob/exploratory_da/Report/ours_enzymes_10d.png?raw=1\">"
   ]
  },
  {
   "cell_type": "markdown",
   "metadata": {
    "id": "1YqJFtEuqWb0"
   },
   "source": [
    "#### Experimental results"
   ]
  },
  {
   "cell_type": "markdown",
   "metadata": {
    "id": "3s2pHDL2qWb0"
   },
   "source": [
    "Loading data:"
   ]
  },
  {
   "cell_type": "code",
   "execution_count": 2,
   "metadata": {
    "id": "A88Jr8YKqWb1"
   },
   "outputs": [
    {
     "ename": "ModuleNotFoundError",
     "evalue": "No module named 'src'",
     "output_type": "error",
     "traceback": [
      "\u001b[0;31m---------------------------------------------------------------------------\u001b[0m",
      "\u001b[0;31mModuleNotFoundError\u001b[0m                       Traceback (most recent call last)",
      "\u001b[0;32m<ipython-input-2-1610d86775b1>\u001b[0m in \u001b[0;36m<module>\u001b[0;34m\u001b[0m\n\u001b[0;32m----> 1\u001b[0;31m \u001b[0;32mfrom\u001b[0m \u001b[0msrc\u001b[0m \u001b[0;32mimport\u001b[0m \u001b[0mP3C\u001b[0m\u001b[0;34m\u001b[0m\u001b[0;34m\u001b[0m\u001b[0m\n\u001b[0m",
      "\u001b[0;31mModuleNotFoundError\u001b[0m: No module named 'src'"
     ]
    }
   ],
   "source": [
    "from src import P3C"
   ]
  },
  {
   "cell_type": "code",
   "execution_count": null,
   "metadata": {
    "id": "R8HLu55ZqWb1"
   },
   "outputs": [],
   "source": [
    "def load_csv(path):\n",
    "    return np.loadtxt(path, delimiter=\";\")\n",
    "\n",
    "def load_sparse(path):\n",
    "    return load_npz(path)\n",
    "\n",
    "def select_from_list(l, indices):\n",
    "    return [l[i] for i in indices]"
   ]
  },
  {
   "cell_type": "code",
   "execution_count": null,
   "metadata": {
    "id": "6g0-e3HZqWb1"
   },
   "outputs": [],
   "source": [
    "def visualize(G, color=None, figsize=(5,5)):\n",
    "    plt.figure(figsize=figsize)\n",
    "    plt.xticks([])\n",
    "    plt.yticks([])\n",
    "    nx.draw_networkx(G, \n",
    "                     pos=nx.spring_layout(G, seed=42),\n",
    "                     with_labels=True,\n",
    "                     node_color=color,\n",
    "                     cmap=\"Set2\")\n",
    "    plt.show()"
   ]
  },
  {
   "cell_type": "code",
   "execution_count": null,
   "metadata": {
    "id": "3a0xnUjOqWb1",
    "outputId": "0c968d23-37c4-4e61-ccb8-31fd34c0e142"
   },
   "outputs": [],
   "source": [
    "base_path = os.path.join(\"kernels\", \"node_labels\")\n",
    "ds_name = \"ENZYMES\"\n",
    "classes = dp.get_dataset(ds_name)\n",
    "G = tud_to_networkx(ds_name)\n",
    "print(f\"Number of graphs in data set is {len(G)}\")\n",
    "print(f\"Number of classes {len(set(classes.tolist()))}\")"
   ]
  },
  {
   "cell_type": "code",
   "execution_count": null,
   "metadata": {
    "id": "_Xj6HHG5qWb1"
   },
   "outputs": [],
   "source": [
    "#Gram Matrix for the Weisfeiler-Lehman subtree kernel\n",
    "iterations = 5\n",
    "gram = load_csv(os.path.join(base_path,f\"{ds_name}_gram_matrix_wl{iterations}.csv\"))\n",
    "gram = aux.normalize_gram_matrix(gram)"
   ]
  },
  {
   "cell_type": "markdown",
   "metadata": {
    "id": "jqx53eXBqWb1"
   },
   "source": [
    "Running the algorithm with 10 components using KernelPCA:"
   ]
  },
  {
   "cell_type": "code",
   "execution_count": null,
   "metadata": {
    "id": "d8Iq1ZPxqWb1",
    "outputId": "9f0f6e9b-0131-431d-b736-daf9ba59f177"
   },
   "outputs": [],
   "source": [
    "kpca = KernelPCA(n_components=10, kernel=\"precomputed\")\n",
    "data = kpca.fit_transform(gram)\n",
    "\n",
    "data = P3C.normalize_data(data)\n",
    "bins, nr_of_bins = P3C.split_into_bins(data)\n",
    "\n",
    "for column_bins in bins:\n",
    "    P3C.mark_bins(column_bins, nr_of_bins)\n",
    "\n",
    "for column_bins in bins:\n",
    "    P3C.mark_merge_bins(column_bins)\n",
    "\n",
    "new_bins = P3C.merge_all_bins(bins)\n",
    "\n",
    "poisson_threshold = 1e-4\n",
    "tree = P3C.construct_candidate_tree_start(data, new_bins)\n",
    "ns = P3C.construct_new_level(0, tree, poisson_threshold)\n",
    "candidate_list = P3C.get_candidates(ns)\n",
    "inv_cov_cluster_dict = P3C.get_inv_cov_cluster_dict(candidate_list)\n",
    "result, gmm, means = P3C.get_result(data, candidate_list, inv_cov_cluster_dict)\n",
    "means_after_bgm, cluster_dict, cluster_points = P3C.get_clusters_and_means(candidate_list, data, result, means)\n",
    "P3C.plot_means(data, means, means_after_bgm, result)\n",
    "clustered = P3C.find_outliers(data, candidate_list, cluster_dict, cluster_points, means_after_bgm, result)"
   ]
  },
  {
   "cell_type": "markdown",
   "metadata": {
    "id": "dOTV0gQ_qWb1"
   },
   "source": [
    "Plotting the first 2 dimensions in clusters:"
   ]
  },
  {
   "cell_type": "code",
   "execution_count": null,
   "metadata": {
    "id": "IH-CuEqvqWb1",
    "outputId": "a93897b3-3438-454b-e49c-b75b2b8356b7"
   },
   "outputs": [],
   "source": [
    "P3C.plot_clustered(clustered)"
   ]
  },
  {
   "cell_type": "markdown",
   "metadata": {
    "id": "0uwGjAGpqWb2"
   },
   "source": [
    "Calculating NMI:"
   ]
  },
  {
   "cell_type": "code",
   "execution_count": null,
   "metadata": {
    "id": "TMN1NL7dqWb2",
    "outputId": "1c110947-7cb8-4202-f28d-c3eee7d03ac0"
   },
   "outputs": [],
   "source": [
    "p3c_nmi = normalized_mutual_info_score(result, classes)\n",
    "print(f\"P3C NMI:{p3c_nmi:.4f}\")  "
   ]
  },
  {
   "cell_type": "markdown",
   "metadata": {
    "id": "kmIKiOUmqWb2"
   },
   "source": [
    "Graphs that are nearest to cluster means:\n",
    "\n",
    "Last cluster represents the noise cluster."
   ]
  },
  {
   "cell_type": "code",
   "execution_count": null,
   "metadata": {
    "id": "ShSCmwiqqWb2",
    "outputId": "34a2e530-7c28-480c-89c9-1a14b2578d16"
   },
   "outputs": [],
   "source": [
    "from sklearn.metrics import pairwise_distances\n",
    "# select first 2 nearest neighbours in for each cluster\n",
    "nr_nearest = 2\n",
    "nearest_indices = []\n",
    "for cluster_i in set(result):\n",
    "    mask = (result == cluster_i)\n",
    "    selection = data[mask]\n",
    "    print(f\"number of data points in cluster {cluster_i}: {selection.shape[0]}\")\n",
    "    center_i = means_after_bgm[cluster_i].reshape(1,-1)\n",
    "    distances_i = pairwise_distances(center_i, data)\n",
    "    nearest_indices.append(np.argsort(distances_i, )[0][0:nr_nearest])\n",
    "    print(f\"Nearest data points in cluster {cluster_i}: {nearest_indices[-1]}\")"
   ]
  },
  {
   "cell_type": "code",
   "execution_count": null,
   "metadata": {
    "id": "-zq7UbhZqWb2",
    "outputId": "f91dd50d-3d35-458e-fb0c-0889fa201606"
   },
   "outputs": [],
   "source": [
    "for i, indices in enumerate(nearest_indices):\n",
    "    print(f\"Cluster {i}, Indices {indices}\")\n",
    "    G_selected = select_from_list(G, indices)\n",
    "    for g_i in G_selected:\n",
    "        visualize(g_i)"
   ]
  },
  {
   "cell_type": "markdown",
   "metadata": {
    "id": "ROYsHYmcqWb2"
   },
   "source": [
    "Even though our algorithm results aren't very representative of the ground truth labels, the graphs nearest to the cluster medians still show a high degree of similarity, showing that our clusters do represent a clustering.  "
   ]
  }
 ],
 "metadata": {
  "colab": {
   "name": "Task 1.ipynb",
   "provenance": [],
   "toc_visible": true
  },
  "kernelspec": {
   "display_name": "Python 3",
   "language": "python",
   "name": "python3"
  },
  "language_info": {
   "codemirror_mode": {
    "name": "ipython",
    "version": 3
   },
   "file_extension": ".py",
   "mimetype": "text/x-python",
   "name": "python",
   "nbconvert_exporter": "python",
   "pygments_lexer": "ipython3",
   "version": "3.7.6"
  }
 },
 "nbformat": 4,
 "nbformat_minor": 4
}
